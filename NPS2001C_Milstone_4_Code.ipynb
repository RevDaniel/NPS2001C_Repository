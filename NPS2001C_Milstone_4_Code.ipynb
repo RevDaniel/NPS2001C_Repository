{
  "nbformat": 4,
  "nbformat_minor": 0,
  "metadata": {
    "colab": {
      "provenance": []
    },
    "kernelspec": {
      "name": "python3",
      "display_name": "Python 3"
    },
    "language_info": {
      "name": "python"
    }
  },
  "cells": [
    {
      "cell_type": "code",
      "execution_count": null,
      "metadata": {
        "id": "3l_Ed4b-WfYH"
      },
      "outputs": [],
      "source": [
        "#Importing relevant libraries\n",
        "import numpy as np"
      ]
    },
    {
      "cell_type": "code",
      "source": [
        "#Defining the Linear Search function\n",
        "def linearSearch(x, y):\n",
        "  for j in range(0, len(x)):\n",
        "    if x[j] == y:\n",
        "      return j\n",
        "    else:\n",
        "      print(\"Food item not found\")"
      ],
      "metadata": {
        "id": "EBa8Mro7QOqy"
      },
      "execution_count": 1,
      "outputs": []
    },
    {
      "cell_type": "code",
      "source": [
        "#Initialising relevant lists\n",
        "noodle_store_menu = [\"tom_yum_noodle_seafood\", \"ban_mian_dry\"]\n",
        "chicken_rice_store_menu = [\"chicken_rice\", \"char_siew_rice\"]\n",
        "food_items = [\"tom_yum_noodle_seafood\", \"ban_mian_dry\", \"chicken_rice\", \"char_siew_rice\"]\n",
        "food_items_picture = [\"tom_yum_noodle_seafood.jpg\", \"ban_mian_dry.jpg\", \"chicken_rice.png\", \"char_siew_rice.jpeg\"]\n",
        "food_items_price = [\"5.50\", \"4\", \"4.50\", \"5.50\"]\n",
        "food_items_cooking_time = [\"5\", \"6\", \"6\", \"5\"]\n",
        "food_items_waiting_time = []"
      ],
      "metadata": {
        "id": "WIPZU1nvWv3W"
      },
      "execution_count": null,
      "outputs": []
    },
    {
      "cell_type": "code",
      "source": [
        "#Creation of overall waiting time\n",
        "for food_item in food_items:\n",
        "                index_number = food_items.index(food_item)\n",
        "                if food_item in noodle_store_menu:\n",
        "                        waiting_time = int(food_items_cooking_time[index_number]) + 10\n",
        "                        food_items_waiting_time.append(waiting_time)\n",
        "                elif food_item in chicken_rice_store_menu:\n",
        "                        waiting_time = int(food_items_cooking_time[index_number]) + 8\n",
        "                        food_items_waiting_time.append(waiting_time)"
      ],
      "metadata": {
        "id": "fhd1DhXlW0b5"
      },
      "execution_count": null,
      "outputs": []
    },
    {
      "cell_type": "code",
      "source": [
        "#Creation of final array\n",
        "array_food_items = np.array(food_items)\n",
        "array_food_items_picture = np.array(food_items_picture)\n",
        "array_food_items_price = np.array(food_items_price)\n",
        "array_food_items_waiting_time = np.array(food_items_waiting_time)\n",
        "final_array = np.column_stack((array_food_items_waiting_time, array_food_items, array_food_items_picture, array_food_items_price))\n",
        "print(final_array)"
      ],
      "metadata": {
        "colab": {
          "base_uri": "https://localhost:8080/"
        },
        "id": "vByJDrwWXAKd",
        "outputId": "e0670a18-1a13-47dd-e5ba-f343646bba4d"
      },
      "execution_count": null,
      "outputs": [
        {
          "output_type": "stream",
          "name": "stdout",
          "text": [
            "[['15' 'tom_yum_noodle_seafood' 'tom_yum_noodle_seafood.jpg' '5.50']\n",
            " ['16' 'ban_mian_dry' 'ban_mian_dry.jpg' '4']\n",
            " ['14' 'chicken_rice' 'chicken_rice.png' '4.50']\n",
            " ['13' 'char_siew_rice' 'char_siew_rice.jpeg' '5.50']]\n"
          ]
        }
      ]
    },
    {
      "cell_type": "code",
      "source": [
        "#Utilising quicksort to sort final array\n",
        "sorted_final_array = final_array[final_array[:, 0].argsort(kind = \"quicksort\")]\n",
        "print(sorted_final_array)"
      ],
      "metadata": {
        "colab": {
          "base_uri": "https://localhost:8080/"
        },
        "id": "CvTx8h8BXGX1",
        "outputId": "56764131-bb9d-4917-9264-d8ebb3a46009"
      },
      "execution_count": null,
      "outputs": [
        {
          "output_type": "stream",
          "name": "stdout",
          "text": [
            "[['13' 'char_siew_rice' 'char_siew_rice.jpeg' '5.50']\n",
            " ['14' 'chicken_rice' 'chicken_rice.png' '4.50']\n",
            " ['15' 'tom_yum_noodle_seafood' 'tom_yum_noodle_seafood.jpg' '5.50']\n",
            " ['16' 'ban_mian_dry' 'ban_mian_dry.jpg' '4']]\n"
          ]
        }
      ]
    },
    {
      "cell_type": "code",
      "source": [
        "#Utilising linear search to search for food item in final array\n",
        "index_food_item_searched = linearSearch(final_array[:, 1], \"tom_yum_noodle_seafood\")\n",
        "row_containing_food_item = final_array[index_food_item_searched]\n",
        "print(row_containing_food_item)"
      ],
      "metadata": {
        "colab": {
          "base_uri": "https://localhost:8080/"
        },
        "id": "Ip7NTdZqXWE6",
        "outputId": "260e950a-4a29-4931-ce05-99a253579756"
      },
      "execution_count": null,
      "outputs": [
        {
          "output_type": "stream",
          "name": "stdout",
          "text": [
            "['15' 'tom_yum_noodle_seafood' 'tom_yum_noodle_seafood.jpg' '5.50']\n"
          ]
        }
      ]
    }
  ]
}